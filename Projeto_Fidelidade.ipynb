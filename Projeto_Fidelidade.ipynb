{
  "nbformat": 4,
  "nbformat_minor": 0,
  "metadata": {
    "colab": {
      "provenance": []
    },
    "kernelspec": {
      "name": "python3",
      "display_name": "Python 3"
    },
    "language_info": {
      "name": "python"
    }
  },
  "cells": [
    {
      "cell_type": "markdown",
      "source": [
        "# **Construção de um programa de fidelidade com clusterização de clientes.**"
      ],
      "metadata": {
        "id": "nDZqwjxmndzq"
      }
    },
    {
      "cell_type": "code",
      "execution_count": null,
      "metadata": {
        "id": "V7hsAe146Pnh"
      },
      "outputs": [],
      "source": [
        "#Abrir Conexão\n",
        "import sqlite3\n",
        "import pandas as pd\n",
        "conn = sqlite3.connect (\"database.db\")\n",
        "\n",
        "# consulta dos dados no banco de dados\n",
        "consulta_db = \"\"\"\n",
        " SELECT\n",
        " *\n",
        " FROM\n",
        " flight_activity fa LEFT JOIN flight_loyalty_history flh ON(fa.loyalty_number = flh.loyalty_number)\n",
        "\"\"\"\n",
        "df_atividade = pd.read_sql_query( consulta_db, conn )\n",
        "\n",
        "#Fecha conexão\n",
        "conn.close()\n",
        "\n",
        "# comando para mostrar a tabela resultante da consulta\n",
        "df_atividade.head()"
      ]
    },
    {
      "cell_type": "markdown",
      "source": [
        "# **Preparação dos dados**"
      ],
      "metadata": {
        "id": "C91wicol7nmh"
      }
    },
    {
      "cell_type": "code",
      "source": [
        "# Numero de dados faltantes em cada coluna\n",
        "df_atividade.isna().sum()\n",
        "\n",
        "#Selecionando somente as colunas numéricas, porém necessita a última coluna, que é o rótulo que será passado para o algoritmo aprender.\n",
        "#Essas colunas foram escolhidas por serem as melhores para o algoritmo de ML e possuem características das pessoas no banco de dados.\n",
        "colunas=[\"year\", \"month\", \"flights_booked\", \"flights_with_companions\", \"total_flights\", \"distance\", \"points_accumulated\", \"salary\",\n",
        " \"clv\", \"loyalty_card\"]\n",
        "\n",
        "#Guardar a seleção (tabela com os dados que queremos) acima em uma variável para o treinamento do algoritmo\n",
        "df_colunas_numericas = df_atividade.loc[:, colunas]\n",
        "\n",
        "#Remover as linhas que contém dados faltantes, utilizando a variável acima e colocando em outra variável.\n",
        "df_dados_completos = df_colunas_numericas.dropna()\n",
        "\n",
        "# verificando o numero de linhas vazias\n",
        "df_dados_completos.isna().sum()"
      ],
      "metadata": {
        "id": "NsQmg4k47uDN"
      },
      "execution_count": null,
      "outputs": []
    },
    {
      "cell_type": "code",
      "source": [
        "#Verificando quantas linhas sobraram para realizarmos o algoritmo de ML\n",
        "df_dados_completos.shape[0]"
      ],
      "metadata": {
        "id": "RsHsTjnyCdnO"
      },
      "execution_count": null,
      "outputs": []
    },
    {
      "cell_type": "code",
      "source": [
        "df_dados_completos.head()"
      ],
      "metadata": {
        "id": "s_1yvA-st_o1"
      },
      "execution_count": null,
      "outputs": []
    },
    {
      "cell_type": "markdown",
      "source": [
        "# ***Machine Learning***"
      ],
      "metadata": {
        "id": "fNvUBW1qC6vC"
      }
    },
    {
      "cell_type": "code",
      "source": [
        "from sklearn import tree as tr\n",
        "\n",
        "X_atributos = df_dados_completos.drop(columns = \"loyalty_card\") #Tiramos essa coluna pois ela contém strings\n",
        "y_rotulos = df_dados_completos.loc[:, \"loyalty_card\"] #Aqui usaremos o y como rótulo.\n",
        "\n",
        "#Definição do algoritmo\n",
        "modelo = tr.DecisionTreeClassifier(max_depth=5) #=2 é o nv da árvore de decisão. Vemos isso executando o cód tr.plot abaixo.\n",
        "\n",
        "#Treinamento do algoritmo\n",
        "modelo_treinado = modelo.fit(X_atributos, y_rotulos)"
      ],
      "metadata": {
        "id": "rW7fS0dPC9Rc"
      },
      "execution_count": null,
      "outputs": []
    },
    {
      "cell_type": "code",
      "source": [
        "tr.plot_tree(modelo_treinado, filled = True); #É o plot do algoritmo treinado, acrescentando ';', os comentários do aprendizado são removidos, ficando somente o plot."
      ],
      "metadata": {
        "id": "6_9eHN3QE5-j"
      },
      "execution_count": null,
      "outputs": []
    },
    {
      "cell_type": "markdown",
      "source": [
        "# **Apresentando os resultados**"
      ],
      "metadata": {
        "id": "QUOnwgB0uYqA"
      }
    },
    {
      "cell_type": "code",
      "source": [
        "#Pegando aleatoriamente um cliente dentro do dataframe já tratado (df_dados_completos)\n",
        "X_novo = X_atributos.sample()\n",
        "\n",
        "#Trás a probabilidade do cliente poder aceitar um dos programas de fidelidade oferecidos, e essas probabilidades obedecem uma ordem alfabética.\n",
        "#Como temos 3 programas, a porcentagem virá nessa ordem: Aurora, Nova e Star.\n",
        "previsao = modelo_treinado.predict_proba(X_novo)\n",
        "\n",
        "print(\"Probabilidade:\\nAurora: {:.1f}% \\nNova: {:.1f}% \\nStar: {:.1f}%\".format(100*previsao[0][0], 100*previsao[0][1], 100*previsao[0][2])) #[0][0] é do 1º elemento..."
      ],
      "metadata": {
        "id": "JMfam1z3lVeq"
      },
      "execution_count": null,
      "outputs": []
    },
    {
      "cell_type": "markdown",
      "source": [
        "# **Painel de visualização**"
      ],
      "metadata": {
        "id": "lFvLKRr3ryxH"
      }
    },
    {
      "cell_type": "code",
      "source": [
        "!pip install gradio"
      ],
      "metadata": {
        "id": "tebv24RJtXqF"
      },
      "execution_count": null,
      "outputs": []
    },
    {
      "cell_type": "code",
      "source": [
        "import gradio as gr\n",
        "import numpy as np"
      ],
      "metadata": {
        "id": "nYl3DqPTr4b-"
      },
      "execution_count": null,
      "outputs": []
    },
    {
      "cell_type": "code",
      "source": [
        "#Função recebe entradas dos usuários, chama o algoritmo, executa a previsão e devolve para o painel o resultado\n",
        "def predict(*args):\n",
        "  X_novo = np.array( [args] ).reshape(1, -1) #args = argumentos, ajeitando as colunas\n",
        "  previsao = modelo_treinado.predict_proba(X_novo)\n",
        "\n",
        "  return {\"Aurora\": previsao[0][0], \"Nova\": previsao[0][1], \"Star\": previsao[0][2]}\n",
        "\n",
        "\n",
        "#Criação de um painel de visualização, de inserção de dados e resposta com a probabilidade\n",
        "with gr.Blocks() as demo: #Cada bloco deve se iniciar com 'with'\n",
        "  #Título do painel\n",
        "  gr.Markdown( \"\"\" # PROPENSAO DE COMPRA \"\"\")\n",
        "\n",
        "  with gr.Row():\n",
        "    with gr.Column():\n",
        "      gr.Markdown( \"\"\" # Atributos do Cliente \"\"\")\n",
        "      year                      = gr.Slider( label=\"year\", minimum=2017, maximum=2018, step=1, randomize=True) #Para descobrir o min e o max, pode usar o 'X_atributos.loc[:, 'year'].min() ou max()\n",
        "      month                     = gr.Slider( label=\"month\", minimum=1, maximum=12, step=1, randomize=True)\n",
        "      flights_booked            = gr.Slider( label=\"flights_booked\", minimum=0, maximum=21, step=1, randomize=True)\n",
        "      flights_with_companions   = gr.Slider( label=\"flights_with_companions\", minimum=0, maximum=11, step=1, randomize=True)\n",
        "      total_flights             = gr.Slider( label=\"total_flights\", minimum=0, maximum=32, step=1, randomize=True)\n",
        "      distance                  = gr.Slider( label=\"distance\", minimum=0, maximum=6293, step=1, randomize=True)\n",
        "      points_accumulated        = gr.Slider( label=\"points_accumulated\", minimum=0.00, maximum=676.50, step=1, randomize=True)\n",
        "      salary                    = gr.Slider( label=\"salary\", minimum=58486.00, maximum=407228.00, step=0.1, randomize=True)\n",
        "      clv                       = gr.Slider( label=\"clv\", minimum=2119.89, maximum=83325.38, step=0.1, randomize=True)\n",
        "\n",
        "      with gr.Row():\n",
        "        #gr.Markdown( \"\"\" # LINHA 1\"\"\")\n",
        "\n",
        "        with gr.Row():\n",
        "          gr.Markdown( \"\"\" # Botao de Previsao \"\"\")\n",
        "          predict_btn = gr.Button(value = \"Previsao\")\n",
        "\n",
        "    with gr.Column():\n",
        "      gr.Markdown( \"\"\" # Propensao de Compra do Cliente \"\"\")\n",
        "      label = gr.Label()\n",
        "\n",
        "  #Botão predict, recebe os dados inseridos pelo usuário, aciona o algoritmo de ML treinado e exibe o resultado\n",
        "  predict_btn.click(\n",
        "      fn=predict,\n",
        "      inputs=[\n",
        "          year,\n",
        "          month,\n",
        "          flights_booked,\n",
        "          flights_with_companions,\n",
        "          total_flights,\n",
        "          distance,\n",
        "          points_accumulated,\n",
        "          salary,\n",
        "          clv\n",
        "          ],\n",
        "      outputs=[label] )\n",
        "\n",
        "demo.launch(share=True)"
      ],
      "metadata": {
        "id": "l5t_i0pMsWZ_"
      },
      "execution_count": null,
      "outputs": []
    }
  ]
}